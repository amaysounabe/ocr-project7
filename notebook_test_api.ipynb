{
 "cells": [
  {
   "cell_type": "code",
   "execution_count": 2,
   "id": "16f3cb26-4f17-4a5c-9712-38e999ef5b21",
   "metadata": {},
   "outputs": [],
   "source": [
    "import pandas as pd\n",
    "import numpy as np\n",
    "import requests"
   ]
  },
  {
   "cell_type": "code",
   "execution_count": 3,
   "id": "5a79a568-ee33-4f44-98c2-ccc272da6798",
   "metadata": {},
   "outputs": [],
   "source": [
    "#url de l'api déployée sur render\n",
    "api_url = \"https://pred-a-depenser-api.onrender.com/predict\""
   ]
  },
  {
   "cell_type": "code",
   "execution_count": 4,
   "id": "2f15a16c-e147-47f2-a594-c2aa1eb9ef16",
   "metadata": {},
   "outputs": [],
   "source": [
    "#les données\n",
    "data = pd.read_csv('./railway/data/df_test.csv')\n",
    "list_id = data['SK_ID_CURR'].sort_values().tolist()"
   ]
  },
  {
   "cell_type": "code",
   "execution_count": 6,
   "id": "34dd5d83-0fb4-449a-b798-ce2b59e70cce",
   "metadata": {},
   "outputs": [],
   "source": [
    "#on les passe en valeur entière\n",
    "list_id = [int(x) for x in list_id]"
   ]
  },
  {
   "cell_type": "code",
   "execution_count": 7,
   "id": "efd55670-6dea-4e0b-afa7-4dfeecd4e178",
   "metadata": {},
   "outputs": [
    {
     "data": {
      "text/plain": [
       "[100001, 100005, 100038, 100057, 100065]"
      ]
     },
     "execution_count": 7,
     "metadata": {},
     "output_type": "execute_result"
    }
   ],
   "source": [
    "list_id[:5]"
   ]
  },
  {
   "cell_type": "code",
   "execution_count": null,
   "id": "9f3fdd86-c77d-40a1-9a14-0981d7763cfb",
   "metadata": {},
   "outputs": [],
   "source": [
    "#on affiche les résultats des 5 premieres requetes\n",
    "\n",
    "for client_id in list_id[:5]:\n",
    "    response = requests.get(f\"{api_url}{client_id}\")"
   ]
  }
 ],
 "metadata": {
  "kernelspec": {
   "display_name": "Python 3 (ipykernel)",
   "language": "python",
   "name": "python3"
  },
  "language_info": {
   "codemirror_mode": {
    "name": "ipython",
    "version": 3
   },
   "file_extension": ".py",
   "mimetype": "text/x-python",
   "name": "python",
   "nbconvert_exporter": "python",
   "pygments_lexer": "ipython3",
   "version": "3.10.15"
  }
 },
 "nbformat": 4,
 "nbformat_minor": 5
}
